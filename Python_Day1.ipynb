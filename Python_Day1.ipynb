{
 "cells": [
  {
   "cell_type": "code",
   "execution_count": 2,
   "id": "70dfa67c-744d-4eb1-8238-0ff64dfcfe22",
   "metadata": {},
   "outputs": [
    {
     "name": "stdout",
     "output_type": "stream",
     "text": [
      "<class 'int'>\n"
     ]
    }
   ],
   "source": [
    "x=10\n",
    "print(type(x))"
   ]
  },
  {
   "cell_type": "code",
   "execution_count": 4,
   "id": "3c56b1ba-eee6-403a-8f41-9dbd32dbae36",
   "metadata": {},
   "outputs": [
    {
     "name": "stdout",
     "output_type": "stream",
     "text": [
      "Hello World\n"
     ]
    }
   ],
   "source": [
    "print(\"Hello World\")"
   ]
  },
  {
   "cell_type": "code",
   "execution_count": 8,
   "id": "541ed3e3-a28f-4bdd-a8d1-d4c046504e66",
   "metadata": {},
   "outputs": [
    {
     "name": "stdout",
     "output_type": "stream",
     "text": [
      "Jaipur\n",
      "109276\n"
     ]
    }
   ],
   "source": [
    "print('''Jaipur\n",
    "109276''')"
   ]
  },
  {
   "cell_type": "code",
   "execution_count": 13,
   "id": "b48bea9b-adf6-402f-a8e0-832825e1c11f",
   "metadata": {},
   "outputs": [
    {
     "name": "stdout",
     "output_type": "stream",
     "text": [
      "Hello\n",
      "Jaipur\n"
     ]
    }
   ],
   "source": [
    "print('Hello')\n",
    "print('Jaipur')"
   ]
  },
  {
   "cell_type": "code",
   "execution_count": 14,
   "id": "4c6b14c3-cb4f-45f9-8a59-cc621e2258cc",
   "metadata": {},
   "outputs": [
    {
     "name": "stdout",
     "output_type": "stream",
     "text": [
      "Hello Jaipur\n"
     ]
    }
   ],
   "source": [
    "print('Hello',end=' ')\n",
    "print('Jaipur')"
   ]
  },
  {
   "cell_type": "code",
   "execution_count": 16,
   "id": "91ecb830-b5f0-45d0-a2d8-797930031b72",
   "metadata": {},
   "outputs": [
    {
     "name": "stdout",
     "output_type": "stream",
     "text": [
      "Hello ----------&----------Jaipur\n"
     ]
    }
   ],
   "source": [
    "print('Hello',end=' ----------&----------')\n",
    "print('Jaipur')"
   ]
  },
  {
   "cell_type": "code",
   "execution_count": 18,
   "id": "d28539bf-128c-4a41-b923-41f9dac051a3",
   "metadata": {},
   "outputs": [
    {
     "name": "stdout",
     "output_type": "stream",
     "text": [
      "hellojaipur\n",
      "rajasthan\n"
     ]
    }
   ],
   "source": [
    "print('hello',end='')\n",
    "print('jaipur')\n",
    "print('rajasthan')\n"
   ]
  },
  {
   "cell_type": "markdown",
   "id": "042d6344-9a45-457f-a25d-a5d1f00baa5a",
   "metadata": {},
   "source": [
    "# print('hello',end='')\n",
    "print('jaipur',end='\\n')\n",
    "print('rajasthan')"
   ]
  },
  {
   "cell_type": "code",
   "execution_count": 24,
   "id": "22051f39-302e-4269-a386-efffd1c09847",
   "metadata": {},
   "outputs": [
    {
     "name": "stdout",
     "output_type": "stream",
     "text": [
      "<class 'int'>\n",
      "<class 'str'>\n"
     ]
    }
   ],
   "source": [
    "x=10\n",
    "y='10'\n",
    "print(type(x))\n",
    "print(type(y))"
   ]
  },
  {
   "cell_type": "code",
   "execution_count": 26,
   "id": "87fafb5d-82c7-436c-8d41-bc00f8ca2316",
   "metadata": {},
   "outputs": [
    {
     "name": "stdout",
     "output_type": "stream",
     "text": [
      "Name is Suraj address is Jaipur\n"
     ]
    }
   ],
   "source": [
    "name='Suraj'\n",
    "address='Jaipur'\n",
    "print('Name is',name,'address is',address)"
   ]
  },
  {
   "cell_type": "code",
   "execution_count": 29,
   "id": "89470bd8-99cb-417c-9083-a5676ad38d28",
   "metadata": {},
   "outputs": [
    {
     "name": "stdout",
     "output_type": "stream",
     "text": [
      "Name is Suraj address is Jaipur\n"
     ]
    }
   ],
   "source": [
    "print(f'Name is {name} address is {address}')"
   ]
  },
  {
   "cell_type": "code",
   "execution_count": 36,
   "id": "6e6abf86-da8f-42b4-82fd-1ba302f3811c",
   "metadata": {},
   "outputs": [
    {
     "name": "stdout",
     "output_type": "stream",
     "text": [
      "My Name is Suraj Singh and I live in Jaipur\n"
     ]
    }
   ],
   "source": [
    "name='Suraj'\n",
    "title='Singh'\n",
    "address='Jaipur'\n",
    "print(f'My Name is {name} {title} and I live in {address}')"
   ]
  },
  {
   "cell_type": "code",
   "execution_count": 41,
   "id": "69608c2a-9688-4c28-a22c-f0c00e948b9b",
   "metadata": {},
   "outputs": [
    {
     "name": "stdout",
     "output_type": "stream",
     "text": [
      "5\n"
     ]
    }
   ],
   "source": [
    "a=2\n",
    "b=3\n",
    "res=a+b\n",
    "print(res)\n"
   ]
  },
  {
   "cell_type": "code",
   "execution_count": 51,
   "id": "30fc68dc-ee6f-42c0-9daf-b16addbcac42",
   "metadata": {},
   "outputs": [
    {
     "name": "stdout",
     "output_type": "stream",
     "text": [
      "6\n"
     ]
    }
   ],
   "source": [
    "a=2\n",
    "b=3\n",
    "res=a*b\n",
    "print(res)"
   ]
  },
  {
   "cell_type": "code",
   "execution_count": 52,
   "id": "5566964d-914a-4c52-9434-c96a8296ac1a",
   "metadata": {},
   "outputs": [
    {
     "name": "stdout",
     "output_type": "stream",
     "text": [
      "0.6666666666666666\n"
     ]
    }
   ],
   "source": [
    "res=a/b\n",
    "print(res)"
   ]
  },
  {
   "cell_type": "code",
   "execution_count": 53,
   "id": "41bc8fc5-bbd9-4c06-9b6f-0e710bfb81cc",
   "metadata": {},
   "outputs": [
    {
     "name": "stdout",
     "output_type": "stream",
     "text": [
      "0\n"
     ]
    }
   ],
   "source": [
    "res=a//b\n",
    "print(res)"
   ]
  },
  {
   "cell_type": "code",
   "execution_count": 56,
   "id": "322793a0-0f24-4b5d-8ab5-95bdc8b3bb60",
   "metadata": {},
   "outputs": [
    {
     "name": "stdout",
     "output_type": "stream",
     "text": [
      "8\n"
     ]
    }
   ],
   "source": [
    "res=a**b\n",
    "print(res)"
   ]
  },
  {
   "cell_type": "code",
   "execution_count": 58,
   "id": "914b1195-5dd7-4ead-83ed-9a041bf59e2a",
   "metadata": {},
   "outputs": [
    {
     "name": "stdout",
     "output_type": "stream",
     "text": [
      "2\n"
     ]
    }
   ],
   "source": [
    "res=a%b\n",
    "print(res)"
   ]
  },
  {
   "cell_type": "code",
   "execution_count": 59,
   "id": "f6690b45-69eb-48e5-ba50-78c8d005548d",
   "metadata": {},
   "outputs": [
    {
     "name": "stdout",
     "output_type": "stream",
     "text": [
      "True\n"
     ]
    }
   ],
   "source": [
    "\n",
    "print(a<b)"
   ]
  },
  {
   "cell_type": "code",
   "execution_count": 61,
   "id": "649bc5cc-61be-4d1e-97fb-6c7ce16967b9",
   "metadata": {},
   "outputs": [
    {
     "name": "stdout",
     "output_type": "stream",
     "text": [
      "False\n"
     ]
    }
   ],
   "source": [
    "print(a==b)"
   ]
  },
  {
   "cell_type": "code",
   "execution_count": 63,
   "id": "3c982b38-9dd5-4786-95fd-dbd64e013b8b",
   "metadata": {},
   "outputs": [
    {
     "name": "stdout",
     "output_type": "stream",
     "text": [
      "True\n"
     ]
    }
   ],
   "source": [
    "print(a!=b)"
   ]
  },
  {
   "cell_type": "code",
   "execution_count": 64,
   "id": "64a009b7-101c-4003-be80-a60509f55475",
   "metadata": {},
   "outputs": [
    {
     "name": "stdout",
     "output_type": "stream",
     "text": [
      "True\n"
     ]
    }
   ],
   "source": [
    "print(a<=b)"
   ]
  },
  {
   "cell_type": "code",
   "execution_count": 66,
   "id": "6d70211d-deeb-4eb3-aa63-fc692c8fc6f3",
   "metadata": {},
   "outputs": [
    {
     "name": "stdout",
     "output_type": "stream",
     "text": [
      "False\n"
     ]
    }
   ],
   "source": [
    "print(a>=b)"
   ]
  },
  {
   "cell_type": "code",
   "execution_count": 72,
   "id": "7056cd45-3b6e-47fd-90cd-f68cebd2e1b6",
   "metadata": {},
   "outputs": [
    {
     "name": "stdout",
     "output_type": "stream",
     "text": [
      "0\n"
     ]
    }
   ],
   "source": [
    "#Assignment Operator \n",
    "x=10\n",
    "x=x-5\n",
    "x-=5\n",
    "print(x)\n"
   ]
  },
  {
   "cell_type": "code",
   "execution_count": 74,
   "id": "e20f5e14-f8a4-4cad-90c8-83cdab62fb33",
   "metadata": {},
   "outputs": [
    {
     "name": "stdout",
     "output_type": "stream",
     "text": [
      "10\n"
     ]
    }
   ],
   "source": [
    "x+=5\n",
    "print(x)"
   ]
  },
  {
   "cell_type": "code",
   "execution_count": 76,
   "id": "fc505b49-7fc3-4ab7-bf26-783fe40a400f",
   "metadata": {},
   "outputs": [
    {
     "name": "stdout",
     "output_type": "stream",
     "text": [
      "2.0\n"
     ]
    }
   ],
   "source": [
    "x=10\n",
    "x/=5\n",
    "print(x)"
   ]
  },
  {
   "cell_type": "code",
   "execution_count": 95,
   "id": "92d50661-3c5c-4827-9c8c-0182e79c7edb",
   "metadata": {},
   "outputs": [
    {
     "name": "stdout",
     "output_type": "stream",
     "text": [
      "9565938.0\n"
     ]
    }
   ],
   "source": [
    "x=x*3\n",
    "print(x)\n"
   ]
  },
  {
   "cell_type": "code",
   "execution_count": 84,
   "id": "94196781-3dcf-4917-9cec-5924cf21eb40",
   "metadata": {},
   "outputs": [
    {
     "data": {
      "text/plain": [
       "'hello \\njaipur'"
      ]
     },
     "execution_count": 84,
     "metadata": {},
     "output_type": "execute_result"
    }
   ],
   "source": [
    "('''hello \n",
    "jaipur''')\n"
   ]
  },
  {
   "cell_type": "code",
   "execution_count": 97,
   "id": "f0c21470-5c0b-4a54-92aa-5e6f8e03c855",
   "metadata": {},
   "outputs": [
    {
     "data": {
      "text/plain": [
       "True"
      ]
     },
     "execution_count": 97,
     "metadata": {},
     "output_type": "execute_result"
    }
   ],
   "source": [
    "#membership operator \n",
    "name='Anita'\n",
    "'ni' in name \n",
    "\n",
    "\n"
   ]
  },
  {
   "cell_type": "code",
   "execution_count": 99,
   "id": "8ae4e529-dfb3-4c49-b44f-35502bdc0a7d",
   "metadata": {},
   "outputs": [
    {
     "data": {
      "text/plain": [
       "False"
      ]
     },
     "execution_count": 99,
     "metadata": {},
     "output_type": "execute_result"
    }
   ],
   "source": [
    "'z' in name "
   ]
  },
  {
   "cell_type": "code",
   "execution_count": 101,
   "id": "7d61aae0-9f8e-4f89-b3a5-10b206922659",
   "metadata": {},
   "outputs": [
    {
     "data": {
      "text/plain": [
       "False"
      ]
     },
     "execution_count": 101,
     "metadata": {},
     "output_type": "execute_result"
    }
   ],
   "source": [
    "'nt' in name"
   ]
  },
  {
   "cell_type": "code",
   "execution_count": 104,
   "id": "a28f5537-d0ae-4339-bc5f-2b429294576c",
   "metadata": {},
   "outputs": [
    {
     "data": {
      "text/plain": [
       "True"
      ]
     },
     "execution_count": 104,
     "metadata": {},
     "output_type": "execute_result"
    }
   ],
   "source": [
    "'nit'in name "
   ]
  },
  {
   "cell_type": "code",
   "execution_count": 106,
   "id": "f4daf414-9237-4736-89a7-802afc3ed94e",
   "metadata": {},
   "outputs": [
    {
     "data": {
      "text/plain": [
       "True"
      ]
     },
     "execution_count": 106,
     "metadata": {},
     "output_type": "execute_result"
    }
   ],
   "source": [
    "'An' in name "
   ]
  },
  {
   "cell_type": "code",
   "execution_count": 108,
   "id": "04e4c742-666d-4376-aff5-7ae529bb549c",
   "metadata": {},
   "outputs": [
    {
     "data": {
      "text/plain": [
       "False"
      ]
     },
     "execution_count": 108,
     "metadata": {},
     "output_type": "execute_result"
    }
   ],
   "source": [
    "'an' in name "
   ]
  },
  {
   "cell_type": "code",
   "execution_count": 109,
   "id": "4d431f6d-c927-4071-bbc2-15b585dd8cfc",
   "metadata": {},
   "outputs": [
    {
     "data": {
      "text/plain": [
       "False"
      ]
     },
     "execution_count": 109,
     "metadata": {},
     "output_type": "execute_result"
    }
   ],
   "source": [
    "'A i' in name "
   ]
  }
 ],
 "metadata": {
  "kernelspec": {
   "display_name": "Python 3 (ipykernel)",
   "language": "python",
   "name": "python3"
  },
  "language_info": {
   "codemirror_mode": {
    "name": "ipython",
    "version": 3
   },
   "file_extension": ".py",
   "mimetype": "text/x-python",
   "name": "python",
   "nbconvert_exporter": "python",
   "pygments_lexer": "ipython3",
   "version": "3.10.11"
  }
 },
 "nbformat": 4,
 "nbformat_minor": 5
}
